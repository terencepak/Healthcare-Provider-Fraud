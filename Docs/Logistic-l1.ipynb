{
 "cells": [
  {
   "cell_type": "code",
   "execution_count": 22,
   "metadata": {},
   "outputs": [],
   "source": [
    "import numpy as np\n",
    "import sys\n",
    "import pandas as pd\n",
    "import matplotlib.pyplot as plt\n",
    "\n",
    "from sklearn import metrics\n",
    "from sklearn.model_selection import train_test_split\n",
    "from sklearn.linear_model import LogisticRegression\n",
    "from sklearn.preprocessing import StandardScaler"
   ]
  },
  {
   "cell_type": "code",
   "execution_count": 2,
   "metadata": {},
   "outputs": [
    {
     "name": "stdout",
     "output_type": "stream",
     "text": [
      "Last updated: Mon Mar 22 2021\n",
      "\n",
      "Python implementation: CPython\n",
      "Python version       : 3.8.5\n",
      "IPython version      : 7.13.0\n",
      "\n",
      "numpy     : 1.20.1\n",
      "sys       : 3.8.5 (default, Jan 27 2021, 15:41:15) \n",
      "[GCC 9.3.0]\n",
      "pandas    : 1.2.2\n",
      "matplotlib: 3.1.2\n",
      "\n",
      "Watermark: 2.2.0\n",
      "\n"
     ]
    }
   ],
   "source": [
    "%load_ext watermark\n",
    "%watermark -n -u -v -iv -w"
   ]
  },
  {
   "cell_type": "code",
   "execution_count": 3,
   "metadata": {},
   "outputs": [],
   "source": [
    "pd.set_option(\"max_columns\", None)\n",
    "pd.set_option(\"max_rows\", None)"
   ]
  },
  {
   "cell_type": "code",
   "execution_count": 4,
   "metadata": {},
   "outputs": [],
   "source": [
    "# I think that it is more pythonic to use lower case variable names. \n",
    "tr = pd.read_csv('./Data/Train-1542865627584.csv')\n",
    "tr_bene = pd.read_csv('./Data/Train_Beneficiarydata-1542865627584.csv')\n",
    "tr_in = pd.read_csv('./Data/Train_Inpatientdata-1542865627584.csv')\n",
    "tr_out = pd.read_csv('./Data/Train_Outpatientdata-1542865627584.csv')"
   ]
  },
  {
   "cell_type": "code",
   "execution_count": 5,
   "metadata": {},
   "outputs": [],
   "source": [
    "# combine data frames to one (assume that they are indeed combinable)\n",
    "\n",
    "# intermediate data frome of in and out patient\n",
    "dfs = {'in': tr_in, 'out' : tr_out}\n",
    "tr_intermediate = pd.concat(dfs)\n",
    "\n",
    "# collect dataframe info and drop the numeric index\n",
    "tr_intermediate.reset_index(inplace=True)\n",
    "tr_intermediate = tr_intermediate.drop('level_1', axis=1)\n",
    "\n",
    "# intermediate data frame with beneficary\n",
    "tr_inter_bene = pd.merge(tr_intermediate, tr_bene, how='inner', \n",
    "                left_on = ['BeneID'], right_on = ['BeneID'])\n",
    "\n",
    "\n",
    "# all training data\n",
    "tr_all = pd.merge(tr,tr_inter_bene,on='Provider')"
   ]
  },
  {
   "cell_type": "code",
   "execution_count": 6,
   "metadata": {},
   "outputs": [],
   "source": [
    "# things to recode\n",
    "y_n = { 'Yes':1, 'No':0 }\n",
    "in_out = { 'in':1, 'out':0 }\n",
    "renal = { 'Y':1, '0':0 }\n",
    "\n",
    "\n",
    "# grab date columns\n",
    "date_cols = [c for c in tr_all if c.endswith('Dt')] + ['DOB', 'DOD']\n",
    "\n",
    "\n",
    "\n",
    "# replace with codes\n",
    "tr_all = tr_all.replace({ 'PotentialFraud': y_n, \n",
    "                          'level_0':in_out, \n",
    "                          'RenalDiseaseIndicator':renal\n",
    "                        })\n",
    "\n",
    "# format dates\n",
    "tr_all[date_cols] = tr_all[date_cols].apply(pd.to_datetime)"
   ]
  },
  {
   "cell_type": "code",
   "execution_count": 7,
   "metadata": {},
   "outputs": [],
   "source": [
    "#grab chronic condition columns change [2,1] to [1,0]\n",
    "chron_con_cols = [c for c in tr_all if c.startswith('ChronicCond_')] +['Gender']\n",
    "\n",
    "for c in chron_con_cols:\n",
    "    tr_all[c] = tr_all[c]-1\n"
   ]
  },
  {
   "cell_type": "code",
   "execution_count": 8,
   "metadata": {},
   "outputs": [],
   "source": [
    "# calculate meaningful info from dates\n",
    "tr_all['claim_dur'] = (tr_all['ClaimEndDt'] - tr_all['ClaimStartDt']).dt.days\n",
    "tr_all['admiss_dur'] = (tr_all['DischargeDt'] - tr_all['AdmissionDt']).dt.days\n",
    "tr_all['age_at_claim'] = tr_all['ClaimStartDt'].dt.year - tr_all['DOB'].dt.year\n",
    "tr_all['is_dead'] = [0 if pd.isnull(x) else 1 for x in tr_all['DOD']]"
   ]
  },
  {
   "cell_type": "code",
   "execution_count": 9,
   "metadata": {},
   "outputs": [],
   "source": [
    "tr_all_dropna = tr_all[['PotentialFraud','level_0', 'InscClaimAmtReimbursed',\n",
    "       'DeductibleAmtPaid','Gender', 'Race', 'RenalDiseaseIndicator', 'State', 'County',\n",
    "       'NoOfMonths_PartACov', 'NoOfMonths_PartBCov', 'ChronicCond_Alzheimer',\n",
    "       'ChronicCond_Heartfailure', 'ChronicCond_KidneyDisease',\n",
    "       'ChronicCond_Cancer', 'ChronicCond_ObstrPulmonary',\n",
    "       'ChronicCond_Depression', 'ChronicCond_Diabetes',\n",
    "       'ChronicCond_IschemicHeart', 'ChronicCond_Osteoporasis',\n",
    "       'ChronicCond_rheumatoidarthritis', 'ChronicCond_stroke',\n",
    "       'IPAnnualReimbursementAmt', 'IPAnnualDeductibleAmt',\n",
    "       'OPAnnualReimbursementAmt', 'OPAnnualDeductibleAmt', 'claim_dur',\n",
    "       'admiss_dur', 'age_at_claim', 'is_dead']].dropna()"
   ]
  },
  {
   "cell_type": "code",
   "execution_count": 12,
   "metadata": {},
   "outputs": [],
   "source": [
    "# X and y\n",
    "X = tr_all_dropna.drop(['PotentialFraud'], axis=1)\n",
    "y = tr_all_dropna['PotentialFraud']"
   ]
  },
  {
   "cell_type": "code",
   "execution_count": 15,
   "metadata": {},
   "outputs": [],
   "source": [
    "X_train, X_test, y_train, y_test = train_test_split(X, y, test_size=0.33, random_state=42)"
   ]
  },
  {
   "cell_type": "code",
   "execution_count": 16,
   "metadata": {},
   "outputs": [],
   "source": [
    "X_train = StandardScaler().fit_transform(X_train)\n",
    "X_test = StandardScaler().fit_transform(X_test)"
   ]
  },
  {
   "cell_type": "code",
   "execution_count": 17,
   "metadata": {},
   "outputs": [
    {
     "data": {
      "text/plain": [
       "LogisticRegression(C=0.01, class_weight=None, dual=False, fit_intercept=True,\n",
       "                   intercept_scaling=1, l1_ratio=None, max_iter=100,\n",
       "                   multi_class='auto', n_jobs=None, penalty='l1',\n",
       "                   random_state=None, solver='saga', tol=0.01, verbose=0,\n",
       "                   warm_start=False)"
      ]
     },
     "execution_count": 17,
     "metadata": {},
     "output_type": "execute_result"
    }
   ],
   "source": [
    "model = LogisticRegression(C=0.01, penalty='l1', tol=0.01, solver='saga')\n",
    "model.fit(X_train,y_train)"
   ]
  },
  {
   "cell_type": "code",
   "execution_count": 28,
   "metadata": {},
   "outputs": [
    {
     "name": "stdout",
     "output_type": "stream",
     "text": [
      "true neg:  73\n",
      "true pos:  7518\n",
      "false neg:  54\n",
      "false pos:  5415\n"
     ]
    }
   ],
   "source": [
    "pred = model.predict(X_test)\n",
    "tn, fp, fn, tp = metrics.confusion_matrix(y_test, pred).ravel()\n",
    "print('true neg: ', tn)\n",
    "print('true pos: ', tp)\n",
    "print('false neg: ', fn)\n",
    "print('false pos: ', fp)"
   ]
  },
  {
   "cell_type": "code",
   "execution_count": 43,
   "metadata": {},
   "outputs": [
    {
     "data": {
      "image/png": "[encoded data removed]",
      "text/plain": [
       "<Figure size 432x288 with 1 Axes>"
      ]
     },
     "metadata": {
      "needs_background": "light"
     },
     "output_type": "display_data"
    }
   ],
   "source": [
    "y_score = model.decision_function(X_test)\n",
    "fpr, tpr, _ = metrics.roc_curve(y_test, y_score, pos_label=model.classes_[1])\n",
    "auc = metrics.roc_auc_score(y_test, y_score)\n",
    "roc_display = metrics.RocCurveDisplay(fpr=fpr, tpr=tpr, roc_auc=auc, estimator_name=None).plot()"
   ]
  },
  {
   "cell_type": "code",
   "execution_count": 39,
   "metadata": {},
   "outputs": [
    {
     "data": {
      "text/plain": [
       "array([0.23512264, 0.36187307, 0.47320352, ..., 0.16742021, 0.31158057,\n",
       "       0.26994734])"
      ]
     },
     "execution_count": 39,
     "metadata": {},
     "output_type": "execute_result"
    }
   ],
   "source": [
    "y_score"
   ]
  },
  {
   "cell_type": "code",
   "execution_count": null,
   "metadata": {},
   "outputs": [],
   "source": []
  }
 ],
 "metadata": {
  "kernelspec": {
   "display_name": "Python 3",
   "language": "python",
   "name": "python3"
  },
  "language_info": {
   "codemirror_mode": {
    "name": "ipython",
    "version": 3
   },
   "file_extension": ".py",
   "mimetype": "text/x-python",
   "name": "python",
   "nbconvert_exporter": "python",
   "pygments_lexer": "ipython3",
   "version": "3.8.5"
  }
 },
 "nbformat": 4,
 "nbformat_minor": 4
}
